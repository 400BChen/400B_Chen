{
 "cells": [
  {
   "cell_type": "code",
   "execution_count": null,
   "metadata": {},
   "outputs": [],
   "source": [
    "# Homework 4\n",
    "# Center of Mass Position and Velocity\n",
    "# Yuxuan Chen"
   ]
  },
  {
   "cell_type": "code",
   "execution_count": 1,
   "metadata": {
    "ExecuteTime": {
     "end_time": "2020-02-04T23:59:21.657237Z",
     "start_time": "2020-02-04T23:59:21.653687Z"
    }
   },
   "outputs": [],
   "source": [
    "# import modules\n",
    "import numpy as np\n",
    "import astropy.units as u\n",
    "import astropy.table as tbl\n",
    "\n",
    "from ReadFile import Read"
   ]
  },
  {
   "cell_type": "code",
   "execution_count": 2,
   "metadata": {
    "ExecuteTime": {
     "end_time": "2020-02-04T23:59:24.003059Z",
     "start_time": "2020-02-04T23:59:23.979271Z"
    }
   },
   "outputs": [],
   "source": [
    "class CenterOfMass:\n",
    "# Class to define COM position and velocity properties of a given galaxy \n",
    "   \n",
    "    def __init__(self, filename, ptype):\n",
    "    # Initialize the instance of this Class with the following properties:\n",
    "    \n",
    "        #Read through ReadFile from Homework2\n",
    "        self.time, self.total, self.data = Read(filename)\n",
    "        #Choose the index for each row and coloum\n",
    "        self.index = np.where(self.data['type'] == ptype)\n",
    "        #Read elements from the files, by indexes\n",
    "        self.m = self.data['m'][self.index]\n",
    "        self.x = self.data['x'][self.index]\n",
    "        self.y = self.data['y'][self.index]\n",
    "        self.z = self.data['z'][self.index]\n",
    "        self.vx = self.data['vx'][self.index]\n",
    "        self.vy = self.data['vy'][self.index]\n",
    "        self.vz = self.data['vz'][self.index]\n",
    "\n",
    "    def COMdefine(self,x_element,y_element,z_element,mass):\n",
    "    # Function to compute the center of mass position or velocity generically\n",
    "    # input: array (a,b,c) of positions or velocities and the mass\n",
    "    # returns: 3 floats  (the center of mass coordinates)\n",
    "        # Center mass of X axis\n",
    "        x_c_mass = np.sum(x_element*mass)/np.sum(mass)\n",
    "        # Center mass of Y axis\n",
    "        y_c_mass = np.sum(y_element*mass)/np.sum(mass)\n",
    "        # Center mass of Z axis\n",
    "        z_c_mass = np.sum(z_element*mass)/np.sum(mass)\n",
    "        \n",
    "        return x_c_mass, y_c_mass, z_c_mass\n",
    "    \n",
    "    \n",
    "    def COM_P(self, delta):\n",
    "    # Function to specifically return the center of mass position and velocity                                         \n",
    "    # input:                                                                                                           \n",
    "    #        particle type (1,2,3)                                                                                     \n",
    "    #        delta (tolerance)                                                                                         \n",
    "    # returns: One vector, with rows indicating:                                                                                                                                                                            \n",
    "    #       3D coordinates of the center of mass position (kpc)     \n",
    "        #center mass we get from 3 axis from last equation\n",
    "        x_c_m, y_c_m, z_c_m = self.COMdefine(self.x, self.y, self.z, self.m)\n",
    "        # compute the magnitude of the COM position vector.\n",
    "        r_c = np.sqrt(x_c_m**2 + y_c_m**2 + z_c_m**2)\n",
    "\n",
    "        # iterative process to determine the center of mass                                                            \n",
    "\n",
    "        # change reference frame to COM frame                                                                          \n",
    "        # compute the difference between particle coordinates                                                          \n",
    "        x_c_new = self.x - x_c_m\n",
    "        y_c_new = self.y - y_c_m\n",
    "        z_c_new = self.z - z_c_m\n",
    "        r_c_new = np.sqrt(self.x**2+self.y**2+self.z**2) - r_c\n",
    "\n",
    "        # find the max 3D distance of all particles from the guessed COM                                               \n",
    "        # will re-start at half that radius (reduced radius)                                                           \n",
    "        r_max = max(r_c_new)/2.0\n",
    "        \n",
    "        # pick an initial value for the change in COM position                                                      \n",
    "        # between the first guess above and the new one computed from half that volume\n",
    "        # it should be larger than the input tolerance (delta) initially\n",
    "        CHANGE = 1000.0\n",
    "\n",
    "        # start iterative process to determine center of mass position                                                 \n",
    "        # delta is the tolerance for the difference in the old COM and the new one.    \n",
    "        \n",
    "        while (CHANGE > delta):\n",
    "            # select all particles within the reduced radius (starting from original x,y,z, m)\n",
    "            index2 = np.where( np.sqrt(x_c_new**2 + y_c_new**2 + z_c_new**2) <= r_max)\n",
    "            x2 = self.data['x'][index2]\n",
    "            y2 = self.data['y'][index2]\n",
    "            z2 = self.data['z'][index2]\n",
    "            m2 = self.data['m'][index2]\n",
    "\n",
    "            # Refined COM position:                                                                                    \n",
    "            # compute the center of mass position using                                                                \n",
    "            # the particles in the reduced radius\n",
    "            # write your own code below\n",
    "            x_c_m2, y_c_m2, z_c_m2 = self.COMdefine(x2, y2, z2, m2)\n",
    "            # compute the new 3D COM position\n",
    "            # write your own code below\n",
    "            r_c2 = np.sqrt(x_c_m2**2 + y_c_m2**2 + z_c_m2**2)\n",
    "            # determine the difference between the previous center of mass position                                    \n",
    "            # and the new one.                                                                                         \n",
    "            CHANGE = np.abs(r_c - r_c2)\n",
    "\n",
    "            # uncomment the following line if you wnat to check this                                                                                               \n",
    "            # print (\"CHANGE = \", CHANGE)                                                                                     \n",
    "\n",
    "            # Before loop continues, reset : RMAX, particle separations and COM                                        \n",
    "\n",
    "            # reduce the volume by a factor of 2 again                                                                 \n",
    "            r_max= r_max/2.0\n",
    "            # check this.                                                                                              \n",
    "            #print (\"maxR\", r_max)                                                                                  \n",
    "\n",
    "            # Change the frame of reference to the newly computed COM.                                                 \n",
    "            # subtract the new COM\n",
    "            # write your own code below\n",
    "            x_c_new = self.data['x'] - x_c_m2\n",
    "            y_c_new = self.data['y'] - y_c_m2\n",
    "            z_c_new = self.data['z'] - z_c_m2\n",
    "            r_c_new = np.sqrt(x2**2 + y2**2 + z2**2) - r_c2\n",
    "\n",
    "            # set the center of mass positions to the refined values                                                   \n",
    "            x_c_m = x_c_m2\n",
    "            y_c_m = y_c_m2\n",
    "            z_c_m = z_c_m2\n",
    "            r_c = r_c2\n",
    "\n",
    "            # create a vector to store the COM position                                                                                                                                                       \n",
    "            c_m_3d = [x_c_m, y_c_m, z_c_m]\n",
    "\n",
    "        # set the correct units using astropy and round all values\n",
    "        # and then return the COM positon vector\n",
    "        x_c_m = x_c_m*u.kpc\n",
    "        y_c_m = y_c_m*u.kpc\n",
    "        z_c_m = z_c_m*u.kpc\n",
    "        c_m_3d = np.round(c_m_3d*u.kpc,5)\n",
    "    \n",
    "        return c_m_3d        \n",
    "\n",
    "    def COM_V(self, c_m_x,c_m_y,c_m_z):\n",
    "        # Center of Mass velocity\n",
    "        # input: X, Y, Z positions of the COM\n",
    "        # returns 3D Vector of COM Velocities\n",
    "        \n",
    "        # the max distance from the center that we will use to determine the center of mass velocity                   \n",
    "        rV_max = 15.0*u.kpc\n",
    "\n",
    "        # determine the position of all particles relative to the center of mass position\n",
    "        #calculate them in 3 direction, then compute the magnitude value\n",
    "        xV = self.x*u.kpc - c_m_x\n",
    "        yV = self.y*u.kpc - c_m_y\n",
    "        zV = self.z*u.kpc - c_m_z\n",
    "        rV = np.sqrt(xV**2+yV**2+zV**2)\n",
    "        \n",
    "        # determine the index for those particles within the max radius\n",
    "        # write your own code below\n",
    "        indexV = np.where(rV < rV_max)\n",
    "        \n",
    "        # determine the velocity and mass of those particles within the mas radius\n",
    "        vx_new = self.data['vx'][indexV]\n",
    "        vy_new = self.data['vy'][indexV]\n",
    "        vz_new = self.data['vz'][indexV]\n",
    "        m_new = self.data['m'][indexV]  \n",
    "        \n",
    "        \n",
    "        # compute the center of mass velocity using those particles\n",
    "        \n",
    "        cm_vx, cm_vy, cm_vz = self.COMdefine(vx_new, vy_new, vz_new, m_new)\n",
    "\n",
    "        # create a vector to store the COM velocity\n",
    "        # set the correct units usint astropy\n",
    "        # round all values\n",
    "        # write your own code below\n",
    "        cmV_3d = np.round([cm_vx, cm_vy, cm_vz],5)*u.km/u.s\n",
    "\n",
    "        # return the COM vector                                                                                        \n",
    "        return cmV_3d\n",
    "        "
   ]
  },
  {
   "cell_type": "markdown",
   "metadata": {},
   "source": [
    "##Homwork 4 Answer\n",
    "    #Qestion 1\n",
    "    1.  What is the COM position and velocity vector for the MW, M31 and M33 at Snapshot 0using Disk Particles only (use 0.1 kpc as the tolerance so we can have the same answersto compare) ?  In practice, disk particles work the best for the COM determination.Recall that the MW COM should be close to the origin of the coordinate system (0,0,0)"
   ]
  },
  {
   "cell_type": "markdown",
   "metadata": {},
   "source": [
    "#MW&M31&M33"
   ]
  },
  {
   "cell_type": "code",
   "execution_count": 3,
   "metadata": {
    "ExecuteTime": {
     "end_time": "2020-02-04T23:59:30.160978Z",
     "start_time": "2020-02-04T23:59:26.220455Z"
    }
   },
   "outputs": [
    {
     "name": "stdout",
     "output_type": "stream",
     "text": [
      "COM position for MW:  [-2.04777  2.94707 -1.44655] kpc\n",
      "COM velocity for MW: [-0.03131  0.81106 -0.94253] km / s\n"
     ]
    }
   ],
   "source": [
    "MWCOM = CenterOfMass(\"MW_000.txt\", 2)\n",
    "MW_COMP = MWCOM.COM_P(0.1)\n",
    "print('COM position for MW: ',MW_COMP)\n",
    "MW_COMV = MWCOM.COM_V(MW_COMP[0], MW_COMP[1], MW_COMP[2])\n",
    "print('COM velocity for MW:',MW_COMV)\n"
   ]
  },
  {
   "cell_type": "code",
   "execution_count": 4,
   "metadata": {
    "ExecuteTime": {
     "end_time": "2020-02-04T23:59:30.820428Z",
     "start_time": "2020-02-04T23:59:30.761163Z"
    }
   },
   "outputs": [
    {
     "name": "stdout",
     "output_type": "stream",
     "text": [
      "COM position for M31:  [-377.02855  610.99638 -284.4986 ] kpc\n",
      "COM velocity for M31: [ 73.67415 -70.83031  50.76243] km / s\n"
     ]
    }
   ],
   "source": [
    "M31COM = CenterOfMass(\"M31_000.txt\", 2)\n",
    "M31_COMP = M31COM.COM_P(0.1)\n",
    "print('COM position for M31: ',M31_COMP)\n",
    "M31_COMV = M31COM.COM_V(M31_COMP[0], M31_COMP[1], M31_COMP[2])\n",
    "print('COM velocity for M31:',M31_COMV)\n"
   ]
  },
  {
   "cell_type": "code",
   "execution_count": 5,
   "metadata": {},
   "outputs": [
    {
     "name": "stdout",
     "output_type": "stream",
     "text": [
      "COM position for M31:  [-477.9356  487.6864 -407.8338] kpc\n",
      "COM velocity for M31: [ 43.84221 101.46316 139.15132] km / s\n"
     ]
    }
   ],
   "source": [
    "M33COM = CenterOfMass(\"M33_000.txt\", 2)\n",
    "M33_COMP = M33COM.COM_P(0.1)\n",
    "print('COM position for M31: ',M33_COMP)\n",
    "M33_COMV = M33COM.COM_V(M33_COMP[0], M33_COMP[1], M33_COMP[2])\n",
    "print('COM velocity for M31:',M33_COMV)\n"
   ]
  },
  {
   "cell_type": "markdown",
   "metadata": {},
   "source": [
    "#Qustion 22.  What is the magnitude of the current separation and velocity between the MW andM31?  From class, you already know what the relative separation and velocity shouldroughly be (Lecture2 Handouts; Jan 16)"
   ]
  },
  {
   "cell_type": "code",
   "execution_count": 8,
   "metadata": {},
   "outputs": [
    {
     "name": "stdout",
     "output_type": "stream",
     "text": [
      "The magnitude of the current separation and velocity between the MW andM31 is:  115.058 km / s\n"
     ]
    }
   ],
   "source": [
    "#For the difference  of magnitude of the current separation and velocity between the MW andM31, we have\n",
    "#calculate it through 3 dimentions x, y ,z\n",
    "\n",
    "#diffrence in x dimension\n",
    "vx_comparison = M31_COMV[0] - MW_COMV[0]\n",
    "#diffrence in y dimension\n",
    "vy_comparison = M31_COMV[1] - MW_COMV[1]\n",
    "#diffrence in z dimension\n",
    "vz_comparison = M31_COMV[2] - MW_COMV[2]\n",
    "\n",
    "#calculate the magnitude through values in x, y ,z\n",
    "v_magnitude = np.round(np.sqrt(vx_comparison**2 + vy_comparison**2 + vz_comparison**2),3)\n",
    "print('The magnitude of the current separation and velocity between the MW andM31 is: ', v_magnitude)"
   ]
  },
  {
   "cell_type": "markdown",
   "metadata": {},
   "source": [
    "##Question 3\n",
    "What is the magnitude of the current separation and velocity between M33 and M31?"
   ]
  },
  {
   "cell_type": "code",
   "execution_count": 11,
   "metadata": {},
   "outputs": [
    {
     "name": "stdout",
     "output_type": "stream",
     "text": [
      "The magnitude of the current separation and velocity between the MW33 andM31 is:  195.927 km / s\n"
     ]
    }
   ],
   "source": [
    "#For the difference  of magnitude of the current separation and velocity between the MW33 andM31, we have\n",
    "#calculate it through 3 dimentions x, y ,z\n",
    "\n",
    "#diffrence in x dimension\n",
    "vx_comparison = M33_COMV[0] - M31_COMV[0]\n",
    "#diffrence in y dimension\n",
    "vy_comparison = M33_COMV[1] - M31_COMV[1]\n",
    "#diffrence in z dimension\n",
    "vz_comparison = M33_COMV[2] - M31_COMV[2]\n",
    "\n",
    "#calculate the magnitude through values in x, y ,z\n",
    "v_magnitude = np.round(np.sqrt(vx_comparison**2 + vy_comparison**2 + vz_comparison**2),3)\n",
    "print('The magnitude of the current separation and velocity between the MW33 andM31 is: ', v_magnitude)"
   ]
  },
  {
   "cell_type": "markdown",
   "metadata": {},
   "source": [
    "#Qestion4\n",
    "Given  that  M31  and  the  MW  are  about  to  merge,  why  is  the  iterative  process  todetermine the COM is important?"
   ]
  },
  {
   "cell_type": "markdown",
   "metadata": {},
   "source": [
    "As we learned from class, during the merging process, the galaxy will lost its kenetic enery, by which transfered to dark matter halo. Some mass of MW and M31 might become stream around M31/MW, or go into dark matter halo.Therefore the interative process is important, we can know where the mass lost, and where the mass near galaxies(small galaxy, dark matter, ISMC,etc) are impacted our center mass."
   ]
  }
 ],
 "metadata": {
  "kernelspec": {
   "display_name": "Python 3",
   "language": "python",
   "name": "python3"
  },
  "language_info": {
   "codemirror_mode": {
    "name": "ipython",
    "version": 3
   },
   "file_extension": ".py",
   "mimetype": "text/x-python",
   "name": "python",
   "nbconvert_exporter": "python",
   "pygments_lexer": "ipython3",
   "version": "3.7.4"
  },
  "varInspector": {
   "cols": {
    "lenName": 16,
    "lenType": 16,
    "lenVar": 40
   },
   "kernels_config": {
    "python": {
     "delete_cmd_postfix": "",
     "delete_cmd_prefix": "del ",
     "library": "var_list.py",
     "varRefreshCmd": "print(var_dic_list())"
    },
    "r": {
     "delete_cmd_postfix": ") ",
     "delete_cmd_prefix": "rm(",
     "library": "var_list.r",
     "varRefreshCmd": "cat(var_dic_list()) "
    }
   },
   "types_to_exclude": [
    "module",
    "function",
    "builtin_function_or_method",
    "instance",
    "_Feature"
   ],
   "window_display": false
  }
 },
 "nbformat": 4,
 "nbformat_minor": 2
}
