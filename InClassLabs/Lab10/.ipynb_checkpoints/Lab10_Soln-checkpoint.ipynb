{
 "cells": [
  {
   "cell_type": "markdown",
   "metadata": {},
   "source": [
    "# In Class Lab 10\n",
    "\n",
    "Tutorial to make some interesting plots with widgets and the simulaton data ! "
   ]
  },
  {
   "cell_type": "markdown",
   "metadata": {},
   "source": [
    "Graphical widgets -- helpful functions to make a \"graphical user interface\", or GUI.\n",
    "\n",
    "These widgets need to be able to take input from the mouse and keyboard while the program is running. The most common way this is achieved is to have the code run in an infinite loop which is interrupted whenever input is provided. Some action is taken according to the input, and then the loop starts running again. This sort of algorithm is known as an *event loop* -- the code loops until a user event occurs.\n",
    "\n",
    "`matplotlib` provides a number of simple widgets which automatically create an event loop for us. One can create a widget instance, and then tell the widget what function to run when something happens to the widget. Such a function is called a *callback* -- the event loop calls back to the function we give it in order to take some action before starting up again.\n"
   ]
  },
  {
   "cell_type": "code",
   "execution_count": 1,
   "metadata": {},
   "outputs": [],
   "source": [
    "%matplotlib qt   \n",
    "# enabling windows to pop up and be interactive\n",
    "\n",
    "import matplotlib.widgets as mw  # get access to the widgets\n",
    "\n",
    "\n",
    "# external modules\n",
    "import matplotlib\n",
    "import matplotlib.pyplot as plt\n",
    "import matplotlib.colors as colors\n",
    "from matplotlib.colors import LogNorm\n",
    "import numpy as np\n",
    "\n",
    "# my modules \n",
    "from ReadFile import Read\n",
    "from CenterOfMass2 import CenterOfMass\n",
    "from MassProfile import MassProfile\n",
    "\n",
    "# I took the code from Lab 7 for making contours and made it into a separate script\n",
    "# NOTE: it is more organized to keep functions in separate scripts \n",
    "# and then call them when you want to e.g. make plots or do some analysis. \n",
    "from contour import density_contour"
   ]
  },
  {
   "cell_type": "code",
   "execution_count": 2,
   "metadata": {},
   "outputs": [
    {
     "ename": "FileNotFoundError",
     "evalue": "[Errno 2] No such file or directory: 'MW_000.txt'",
     "output_type": "error",
     "traceback": [
      "\u001b[0;31m---------------------------------------------------------------------------\u001b[0m",
      "\u001b[0;31mFileNotFoundError\u001b[0m                         Traceback (most recent call last)",
      "\u001b[0;32m<ipython-input-2-54c35f6c3c6a>\u001b[0m in \u001b[0;36m<module>\u001b[0;34m\u001b[0m\n\u001b[1;32m      1\u001b[0m \u001b[0;31m# Load in disk particles centered on the MW\u001b[0m\u001b[0;34m\u001b[0m\u001b[0;34m\u001b[0m\u001b[0;34m\u001b[0m\u001b[0m\n\u001b[1;32m      2\u001b[0m \u001b[0;31m# this is from the HighRes data files on nimoy so it might take a bit of time to load\u001b[0m\u001b[0;34m\u001b[0m\u001b[0;34m\u001b[0m\u001b[0;34m\u001b[0m\u001b[0m\n\u001b[0;32m----> 3\u001b[0;31m \u001b[0mCOM\u001b[0m \u001b[0;34m=\u001b[0m \u001b[0mCenterOfMass\u001b[0m\u001b[0;34m(\u001b[0m\u001b[0;34m\"MW_000.txt\"\u001b[0m\u001b[0;34m,\u001b[0m\u001b[0;36m2\u001b[0m\u001b[0;34m)\u001b[0m\u001b[0;34m\u001b[0m\u001b[0;34m\u001b[0m\u001b[0m\n\u001b[0m",
      "\u001b[0;32m~/astr400b/400B_Chen/InClassLabs/Lab10/CenterOfMass2.py\u001b[0m in \u001b[0;36m__init__\u001b[0;34m(self, filename, ptype)\u001b[0m\n\u001b[1;32m     16\u001b[0m \u001b[0;34m\u001b[0m\u001b[0m\n\u001b[1;32m     17\u001b[0m         \u001b[0;31m# read in the file\u001b[0m\u001b[0;34m\u001b[0m\u001b[0;34m\u001b[0m\u001b[0;34m\u001b[0m\u001b[0m\n\u001b[0;32m---> 18\u001b[0;31m         \u001b[0mself\u001b[0m\u001b[0;34m.\u001b[0m\u001b[0mtime\u001b[0m\u001b[0;34m,\u001b[0m \u001b[0mself\u001b[0m\u001b[0;34m.\u001b[0m\u001b[0mtotal\u001b[0m\u001b[0;34m,\u001b[0m \u001b[0mself\u001b[0m\u001b[0;34m.\u001b[0m\u001b[0mdata\u001b[0m \u001b[0;34m=\u001b[0m \u001b[0mRead\u001b[0m\u001b[0;34m(\u001b[0m\u001b[0mfilename\u001b[0m\u001b[0;34m)\u001b[0m\u001b[0;34m\u001b[0m\u001b[0;34m\u001b[0m\u001b[0m\n\u001b[0m\u001b[1;32m     19\u001b[0m         \u001b[0;31m#print(self.time)\u001b[0m\u001b[0;34m\u001b[0m\u001b[0;34m\u001b[0m\u001b[0;34m\u001b[0m\u001b[0m\n\u001b[1;32m     20\u001b[0m \u001b[0;34m\u001b[0m\u001b[0m\n",
      "\u001b[0;32m~/astr400b/400B_Chen/InClassLabs/Lab10/ReadFile.py\u001b[0m in \u001b[0;36mRead\u001b[0;34m(filename)\u001b[0m\n\u001b[1;32m     10\u001b[0m \u001b[0;34m\u001b[0m\u001b[0m\n\u001b[1;32m     11\u001b[0m         \u001b[0;31m# open the file\u001b[0m\u001b[0;34m\u001b[0m\u001b[0;34m\u001b[0m\u001b[0;34m\u001b[0m\u001b[0m\n\u001b[0;32m---> 12\u001b[0;31m         \u001b[0mfile\u001b[0m \u001b[0;34m=\u001b[0m \u001b[0mopen\u001b[0m\u001b[0;34m(\u001b[0m\u001b[0mfilename\u001b[0m\u001b[0;34m,\u001b[0m\u001b[0;34m'r'\u001b[0m\u001b[0;34m)\u001b[0m\u001b[0;34m\u001b[0m\u001b[0;34m\u001b[0m\u001b[0m\n\u001b[0m\u001b[1;32m     13\u001b[0m \u001b[0;34m\u001b[0m\u001b[0m\n\u001b[1;32m     14\u001b[0m         \u001b[0;31m#read header info line by line (line will be a string)\u001b[0m\u001b[0;34m\u001b[0m\u001b[0;34m\u001b[0m\u001b[0;34m\u001b[0m\u001b[0m\n",
      "\u001b[0;31mFileNotFoundError\u001b[0m: [Errno 2] No such file or directory: 'MW_000.txt'"
     ]
    }
   ],
   "source": [
    "# Load in disk particles centered on the MW\n",
    "# this is from the HighRes data files on nimoy so it might take a bit of time to load\n",
    "COM = CenterOfMass(\"MW_000.txt\",2)"
   ]
  },
  {
   "cell_type": "code",
   "execution_count": 19,
   "metadata": {
    "collapsed": true
   },
   "outputs": [],
   "source": [
    "# Compute COM of the MW at the new position using disk particles\n",
    "COMP = COM.COM_P(0.1, 2)\n",
    "COMV = COM.COM_V(COMP[0],COMP[1],COMP[2])\n",
    "# Determine positions of disk particles relative to COM \n",
    "MW_Disk_x = COM.x - COMP[0].value \n",
    "MW_Disk_y = COM.y - COMP[1].value \n",
    "\n",
    "# Also store the disk velocity in the y direction\n",
    "MW_Disk_vy = COM.vy - COMV[1].value"
   ]
  },
  {
   "cell_type": "code",
   "execution_count": 20,
   "metadata": {
    "collapsed": true
   },
   "outputs": [],
   "source": [
    "# Plot the disk of the MW with contours. \n",
    "\n",
    "\n",
    "# MW Disk Density \n",
    "fig, ax= plt.subplots(figsize=(10, 10))\n",
    "\n",
    "# plot the particle density for M31 \n",
    "# can modify bin number (e.g. bin =100 for low res files)\n",
    "plt.hist2d(MW_Disk_x,MW_Disk_y, bins=200, norm=LogNorm(), cmap='magma')\n",
    "plt.colorbar(label='Number  of  stars  per  bin')\n",
    "\n",
    "\n",
    "#### ADD HERE \n",
    "# call density_contour to add contours\n",
    "# density_contour(x pos, y pos, contour res, contour res, axis, colors=[colors,colors])\n",
    "density_contour(MW_Disk_x, MW_Disk_y, 80, 80, ax=ax,\\\n",
    "                colors=['white'])\n",
    "\n",
    "\n",
    "# Add axis labels\n",
    "plt.xlabel('x (kpc)', fontsize=22)\n",
    "plt.ylabel('y (kpc)', fontsize=22)\n",
    "\n",
    "#set axis limits\n",
    "plt.ylim(-30,30)\n",
    "plt.xlim(-30,30)\n",
    "\n",
    "#adjust tick label font size\n",
    "label_size = 22\n",
    "matplotlib.rcParams['xtick.labelsize'] = label_size \n",
    "matplotlib.rcParams['ytick.labelsize'] = label_size\n"
   ]
  },
  {
   "cell_type": "code",
   "execution_count": 12,
   "metadata": {
    "collapsed": true
   },
   "outputs": [],
   "source": [
    "# From Colin Leach\n",
    "# you can make plots with better resolution \n",
    " # install  with ‘conda  install mpl -scatter -density ‘\n",
    "\n",
    "import  mpl_scatter_density\n",
    "\n",
    "from  astropy.visualization  import  LogStretch\n",
    "from  astropy.visualization.mpl_normalize  import  ImageNormalize\n",
    "\n",
    "norm = ImageNormalize(vmin=0., vmax =1000,  stretch=LogStretch ())"
   ]
  },
  {
   "cell_type": "code",
   "execution_count": 13,
   "metadata": {},
   "outputs": [
    {
     "name": "stderr",
     "output_type": "stream",
     "text": [
      "/Users/gurtinabesla/opt/anaconda3/lib/python3.7/site-packages/mpl_scatter_density/generic_density_artist.py:74: RuntimeWarning: All-NaN slice encountered\n",
      "  vmin = self._density_vmin(array)\n",
      "/Users/gurtinabesla/opt/anaconda3/lib/python3.7/site-packages/mpl_scatter_density/generic_density_artist.py:79: RuntimeWarning: All-NaN slice encountered\n",
      "  vmax = self._density_vmax(array)\n"
     ]
    },
    {
     "data": {
      "text/plain": [
       "<matplotlib.colorbar.Colorbar at 0x1051c82cd0>"
      ]
     },
     "execution_count": 13,
     "metadata": {},
     "output_type": "execute_result"
    }
   ],
   "source": [
    "fig = plt.figure(figsize =(10 ,10))\n",
    "\n",
    "ax = fig.add_subplot (1, 1, 1, projection='scatter_density')\n",
    "\n",
    "density = ax.scatter_density(MW_Disk_x, MW_Disk_y, norm=norm)\n",
    "\n",
    "# make the contour plot\n",
    "# x pos, y pos, contour res, contour res, axis, colors for contours.\n",
    "density_contour(MW_Disk_x, MW_Disk_y, 80, 80, ax=ax, \\\n",
    "                colors=['white'])\n",
    "\n",
    "#set axis limits\n",
    "plt.ylim(-30,30)\n",
    "plt.xlim(-30,30)\n",
    "\n",
    "\n",
    "# Add axis labels\n",
    "plt.xlabel('x (kpc)', fontsize=22)\n",
    "plt.ylabel('y (kpc)', fontsize=22)\n",
    "fig.colorbar(density , label='Number  of  stars  per  pixel')"
   ]
  },
  {
   "cell_type": "markdown",
   "metadata": {},
   "source": [
    "# Part 2  Zooming in on a plot with widgets\n",
    "\n",
    "\n",
    "We can catch characters typed on the keyboard -- *keypress events* -- by connecting a \"key_press_event\" to a callback function which takes an event as an argument.\n",
    "The event object contains a variety of data. The most useful being:\n",
    "\n",
    "    event.key       # the key which was pressed\n",
    "    event.xdata     # the mouse x-position when the key was pressed\n",
    "    event.ydata     # the mouse y-position when the key was pressed\n",
    "    \n",
    "Another useful widget allows the user to select a rectangular region in some axes object, and then calls a callback function with the bounding coordinates (the extent) of the region selected. This is the RectangleSelector widget.\n",
    "\n",
    "Note that click and release are not really that! Click contains the more-negative values and release the more positive values of both x and y coordinates."
   ]
  },
  {
   "cell_type": "code",
   "execution_count": 5,
   "metadata": {
    "collapsed": true
   },
   "outputs": [],
   "source": [
    "\n",
    "def callbackRectangle( click, release ):\n",
    "    print( f\"button {click.button} pressed\" )\n",
    "    print( f\"button {release.button} released\" )\n",
    "    extent = [ click.xdata, release.xdata, click.ydata, release.ydata ]\n",
    "    print( f\"box extent is {extent}\") \n",
    "    \n",
    "    # ADD - too zoom in reset the axes to the clicked box size\n",
    "    ax.set_xlim( click.xdata, release.xdata ) # added\n",
    "    ax.set_ylim( click.ydata, release.ydata ) # added\n",
    "\n",
    "    # save the file as a .png\n",
    "    # comment this out if your code is giving you problems\n",
    "    plt.savefig(\"Density_Zoom.png\")\n",
    "\n",
    "\n",
    "    # add the  ability to reset the image\n",
    "def onKeyPressed(event):\n",
    "    \n",
    "    if event.key in ['R', 'r']:\n",
    "        # ADD - to zoom back out reset the axes\n",
    "        ax.set_xlim(-30,30 ) # added\n",
    "        ax.set_ylim(-30,30) # added"
   ]
  },
  {
   "cell_type": "code",
   "execution_count": null,
   "metadata": {
    "collapsed": true
   },
   "outputs": [],
   "source": [
    "# plot the particle density for the MW Disk and then zoom in on a region of the disk \n",
    "\n",
    "fig, ax = plt.subplots(figsize =(10 ,10))                             # create an axes\n",
    "\n",
    "plt.hist2d(MW_Disk_x,MW_Disk_y, bins=300, norm=LogNorm(), cmap='magma')\n",
    "plt.colorbar(label='Number  of  stars  per  bin')\n",
    "\n",
    "\n",
    "# make the contour plot\n",
    "# x pos, y pos, contour res, contour res, axis, colors for contours.\n",
    "density_contour(MW_Disk_x, MW_Disk_y, 80, 80, ax=ax, \\\n",
    "                colors=['white'])\n",
    "   \n",
    "\n",
    "    \n",
    "## NEW: Rectangle Selector.     \n",
    "rs = mw.RectangleSelector( ax,                        # the axes to attach to\n",
    "                           callbackRectangle,         # the callback function\n",
    "                           drawtype='box',            # draw a box when selecting a region\n",
    "                           button=[1, 3],             # allow us to use left or right mouse button\n",
    "                                                      #button 1 is left mouse button\n",
    "                           minspanx=5, minspany=5,    # don't accept a box of fewer than 5 pixels\n",
    "                           spancoords='pixels' )      # units for above\n",
    "\n",
    "\n",
    "\n",
    "#set axis limits\n",
    "ax.set_ylim(-30,30)\n",
    "ax.set_xlim(-30,30)\n",
    "\n",
    "\n",
    "# Add axis labels\n",
    "plt.xlabel('x (kpc)', fontsize=22)\n",
    "plt.ylabel('y (kpc)', fontsize=22)\n",
    "\n",
    "# ADDED THIS\n",
    "# to detect the 'R' key press to reset the image\n",
    "plt.connect(\"key_press_event\", onKeyPressed)\n"
   ]
  },
  {
   "cell_type": "markdown",
   "metadata": {},
   "source": [
    "# Part C    Connecting Morphology to Kinematics\n",
    "\n",
    "\n",
    "Make a two panel plot.\n",
    "Left Panel:  Density \n",
    "Right Panel: Phase Diagram \n",
    "\n",
    "Relect a section of the density plot and see where the particles are on the phase diagram"
   ]
  },
  {
   "cell_type": "code",
   "execution_count": 6,
   "metadata": {
    "collapsed": true
   },
   "outputs": [],
   "source": [
    "# ADD MassProfile Object.\n",
    "\n",
    "MWCirc = MassProfile(\"MW\",0)"
   ]
  },
  {
   "cell_type": "code",
   "execution_count": 7,
   "metadata": {
    "collapsed": true
   },
   "outputs": [],
   "source": [
    "R = np.arange(0.01,40,0.5)\n",
    "Vcirc = MWCirc.CircularVelocityTotal(R)"
   ]
  },
  {
   "cell_type": "code",
   "execution_count": 16,
   "metadata": {
    "collapsed": true
   },
   "outputs": [],
   "source": [
    "\n",
    "def callbackRectangle( click, release ):\n",
    "    print( f\"button {click.button} pressed\" )\n",
    "    print( f\"button {release.button} released\" )\n",
    "    extent = [ click.xdata, release.xdata, click.ydata, release.ydata ]\n",
    "    print( f\"box extent is {extent}\") \n",
    "    \n",
    "    # No longer need to zoom  \n",
    "    #ax[0].set_xlim( click.xdata, release.xdata ) # added\n",
    "    #ax[0].set_ylim( click.ydata, release.ydata ) # added\n",
    "    \n",
    "    # Add a yellow rectangle to where we selected a region rather than zooming in\n",
    "    # xy need bottom left corner\n",
    "    width = np.abs(release.xdata - click.xdata)\n",
    "    height = np.abs(click.ydata-release.ydata )\n",
    "    \n",
    "    # Create a rectangle (like we made a circle in the EHT lab)\n",
    "    Rect = plt.Rectangle( (click.xdata,click.ydata),  width, height, fill=False, color='yellow', linewidth=3)\n",
    "    # xy, width, height, angle=0.0, **kwargs\n",
    "    ax[0].add_patch(Rect) # add the rectangle to the axis object.\n",
    "    \n",
    "    \n",
    "    # Plotting the corresponding points on the left panel\n",
    "    # make sure pick rectangle from bottom left corner upwards \n",
    "    index = np.where( (MW_Disk_x > click.xdata) & (MW_Disk_x < release.xdata)& (MW_Disk_y > click.ydata ) \\\n",
    "        & (MW_Disk_y < release.ydata))\n",
    "    ax[1].scatter(MW_Disk_x[index],MW_Disk_vy[index])\n",
    "    \n",
    "    # save the file as a .png\n",
    "    # comment this out if your code is giving you problems\n",
    "    plt.savefig(\"Postion_Velocity.png\")\n",
    "\n",
    "    \n",
    "       # add the  ability to reset the image\n",
    "def onKeyPressed(event):\n",
    "    \n",
    "    if event.key in ['R', 'r']:\n",
    "        # ADD - too zoom in reset the axes\n",
    "        ax[0].set_xlim(-30,30) # added\n",
    "        ax[0].set_ylim(-30,30) # added\n"
   ]
  },
  {
   "cell_type": "code",
   "execution_count": 17,
   "metadata": {},
   "outputs": [
    {
     "data": {
      "text/plain": [
       "13"
      ]
     },
     "execution_count": 17,
     "metadata": {},
     "output_type": "execute_result"
    }
   ],
   "source": [
    "# Now also want to see the corrsponding phase diagram for that region\n",
    "\n",
    "\n",
    "fig,ax = plt.subplots(nrows=1, ncols=2, figsize=(25,10))    \n",
    "        #   ax[0] for Position\n",
    "        #   ax[1] for Velocity \n",
    "  \n",
    "                                                  \n",
    "\n",
    "ax[0].hist2d(MW_Disk_x,MW_Disk_y, bins=200, norm=LogNorm(), cmap='magma')\n",
    "\n",
    "density_contour(MW_Disk_x, MW_Disk_y, 80, 80, ax=ax[0], \\\n",
    "                colors=['red','white','white', 'white', 'white', 'white', 'white', 'white'])\n",
    "#set axis limits\n",
    "ax[0].set_ylim(-30,30)\n",
    "ax[0].set_xlim(-30,30)  \n",
    "\n",
    "# Add axis labels\n",
    "ax[0].set_xlabel('x (kpc)', fontsize=15)\n",
    "ax[0].set_ylabel('y (kpc)', fontsize=15)\n",
    "\n",
    "\n",
    "# Phase Diagram : X vs. VY \n",
    "\n",
    "ax[1].hist2d(MW_Disk_x,MW_Disk_vy, bins=500, norm=LogNorm(), cmap='magma')\n",
    "ax[1].set_xlim(-30,30)\n",
    "\n",
    "# Add axis labels\n",
    "ax[1].set_xlabel('x (kpc)', fontsize=15)\n",
    "ax[1].set_ylabel('Velocity Y Component (km/s)', fontsize=15)\n",
    "\n",
    "# Add the circular velocity\n",
    "ax[1].plot(R, -Vcirc, color=\"blue\")\n",
    "ax[1].plot(-R, Vcirc, color=\"blue\")\n",
    "                        \n",
    "    \n",
    "rs = mw.RectangleSelector( ax[0],                        # the axes to attach to\n",
    "                           callbackRectangle,         # the callback function\n",
    "                           drawtype='box',            # draw a box when selecting a region\n",
    "                           button=[1, 3],             # allow us to use left or right mouse button\n",
    "                           minspanx=5, minspany=5,    # don't accept a box of fewer than 5 pixels\n",
    "                           spancoords='pixels' )      # units for above\n",
    "\n",
    "#button 1 is left mouse button\n",
    "\n",
    "# to detect the 'R' key press to reset the image\n",
    "plt.connect(\"key_press_event\", onKeyPressed)\n",
    "\n",
    "\n"
   ]
  },
  {
   "cell_type": "markdown",
   "metadata": {},
   "source": [
    "# Part D:  Flip it around \n",
    "\n",
    "Now Pick based on kinematics and find out where they are in the disk.\n",
    "This would be a good way to find e.g. high velocity particles. or particles that are really not obeying the normal kinematics of the disk at the current time."
   ]
  },
  {
   "cell_type": "code",
   "execution_count": null,
   "metadata": {
    "collapsed": true
   },
   "outputs": [],
   "source": [
    "# Note you don't need to copy it over again. just flip the axis ax[0] --> ax[1 ] etc\n",
    "\n",
    "def callbackRectangle( click, release ):\n",
    "    print( f\"button {click.button} pressed\" )\n",
    "    print( f\"button {release.button} released\" )\n",
    "    extent = [ click.xdata, release.xdata, click.ydata, release.ydata ]\n",
    "    print( f\"box extent is {extent}\") \n",
    "    \n",
    "\n",
    "    # xy need bottom left corner\n",
    "    width = np.abs(release.xdata - click.xdata)\n",
    "    height = np.abs(click.ydata-release.ydata )\n",
    "    Rect = plt.Rectangle( (click.xdata,click.ydata),  width, height, fill=False, color='yellow', linewidth=3)\n",
    "    # xy, width, height, angle=0.0, **kwargs\n",
    "    ax[0].add_patch(Rect)\n",
    "    \n",
    "    # CHANGE HERE\n",
    "    # make sure pick rectangle from bottom left corner upwards \n",
    "    # here switch y --> vy \n",
    "    index = np.where( (MW_Disk_x > click.xdata) & (MW_Disk_x < release.xdata)& (MW_Disk_vy > click.ydata ) \\\n",
    "        & (MW_Disk_vy < release.ydata))\n",
    "    # JUST NEED TO MODIFY THIS LINE\n",
    "    ax[1].scatter(MW_Disk_x[index],MW_Disk_y[index])\n",
    "    \n",
    "    \n",
    "    # save the file as a .png\n",
    "    # CHANGE Filename\n",
    "    plt.savefig(\"Velocity_Position.png\")\n",
    "\n",
    "    \n",
    "       # add the  ability to reset the image\n",
    "def onKeyPressed(event):\n",
    "    \n",
    "    if event.key in ['R', 'r']:\n",
    "        # ADD - too zoom in reset the axes\n",
    "        ax[0].set_xlim(-30,30) # added\n",
    "        ax[0].set_ylim(-30,30) # added"
   ]
  },
  {
   "cell_type": "code",
   "execution_count": 18,
   "metadata": {},
   "outputs": [
    {
     "data": {
      "text/plain": [
       "13"
      ]
     },
     "execution_count": 18,
     "metadata": {},
     "output_type": "execute_result"
    }
   ],
   "source": [
    "# flip the axes ax[0]<--> ax[1] \n",
    "\n",
    "\n",
    "# plot the particle density for MW \n",
    "fig,ax = plt.subplots(nrows=1, ncols=2, figsize=(25,10))    \n",
    "        #   ax[0] for Velocity  # HERE\n",
    "        #   ax[1] for Position    \n",
    "                                                      \n",
    "ax[1].hist2d(MW_Disk_x,MW_Disk_y, bins=200, norm=LogNorm(), cmap='magma')\n",
    "# plt.colorbar()\n",
    "# ax[0].scatter_density(MW_Disk.x, MW_Disk.z, norm=norm)\n",
    "density_contour(MW_Disk_x, MW_Disk_y, 80, 80, ax=ax[1], \\\n",
    "                colors=['red','white','white', 'white', 'white', 'white', 'white', 'white'])\n",
    "#set axis limits\n",
    "ax[1].set_ylim(-30,30)\n",
    "ax[1].set_xlim(-30,30)  \n",
    "\n",
    "# Add axis labels\n",
    "ax[1].set_xlabel('x (kpc)', fontsize=15)\n",
    "ax[1].set_ylabel('y (kpc)', fontsize=15)\n",
    "\n",
    "\n",
    "# Phase Diagram : X vs. VY \n",
    "\n",
    "ax[0].hist2d(MW_Disk_x,MW_Disk_vy, bins=500, norm=LogNorm(), cmap='magma')\n",
    "ax[0].set_xlim(-30,30)\n",
    "\n",
    "# Add axis labels\n",
    "ax[0].set_xlabel('x (kpc)', fontsize=15)\n",
    "ax[0].set_ylabel('Velocity Y Component (km/s)', fontsize=15)\n",
    "\n",
    "# Add the circular velocity\n",
    "ax[0].plot(R, -Vcirc, color=\"blue\")\n",
    "ax[0].plot(-R, Vcirc, color=\"blue\")\n",
    "                        \n",
    "    \n",
    "rs = mw.RectangleSelector( ax[0],                        # the axes to attach to\n",
    "                           callbackRectangle,         # the callback function\n",
    "                           drawtype='box',            # draw a box when selecting a region\n",
    "                           button=[1, 3],             # allow us to use left or right mouse button\n",
    "                                                      #button 1 is left mouse button\n",
    "                           minspanx=5, minspany=5,    # don't accept a box of fewer than 5 pixels\n",
    "                           spancoords='pixels' )      # units for above\n",
    "\n",
    "\n",
    "\n",
    "# to detect the 'R' key press to reset the image\n",
    "plt.connect(\"key_press_event\", onKeyPressed)\n",
    "\n",
    "\n"
   ]
  },
  {
   "cell_type": "markdown",
   "metadata": {},
   "source": [
    "# Part E : Connecting particles across snapshots\n"
   ]
  },
  {
   "cell_type": "code",
   "execution_count": null,
   "metadata": {
    "collapsed": true
   },
   "outputs": [],
   "source": [
    "# Load in a different snapshot\n",
    "COM_2 = CenterOfMass(\"MW_400.txt\",2)"
   ]
  },
  {
   "cell_type": "code",
   "execution_count": null,
   "metadata": {
    "collapsed": true
   },
   "outputs": [],
   "source": [
    "\n",
    "# Compute COM of M31 using disk particles\n",
    "COMP_2 = COM_2.COM_P(0.1, 2)\n",
    "# Determine positions of disk particles relative to COM \n",
    "MW_Disk_2_x = COM_2.x - COMP_2[0].value \n",
    "MW_Disk_2_y = COM_2.y - COMP_2[1].value \n"
   ]
  },
  {
   "cell_type": "code",
   "execution_count": null,
   "metadata": {
    "collapsed": true
   },
   "outputs": [],
   "source": [
    "\n",
    "def callbackRectangle( click, release ):\n",
    "    print( f\"button {click.button} pressed\" )\n",
    "    print( f\"button {release.button} released\" )\n",
    "    extent = [ click.xdata, release.xdata, click.ydata, release.ydata ]\n",
    "    print( f\"box extent is {extent}\") \n",
    "    \n",
    "    # ADD - too zoom in reset the axes\n",
    "    #ax[0].set_xlim( click.xdata, release.xdata ) # added\n",
    "    #ax[0].set_ylim( click.ydata, release.ydata ) # added\n",
    "    \n",
    "    # xy need bottom left corner\n",
    "    width = np.abs(release.xdata - click.xdata)\n",
    "    height = np.abs(click.ydata-release.ydata )\n",
    "    Rect = plt.Rectangle( (click.xdata,click.ydata),  width, height, fill=False, color='yellow', linewidth=3)\n",
    "    # xy, width, height, angle=0.0, **kwargs\n",
    "    ax[0].add_patch(Rect)\n",
    "    \n",
    "    index = np.where( (MW_Disk.x > click.xdata) & (MW_Disk.x < release.xdata)& (MW_Disk.y > click.ydata ) \\\n",
    "        & (MW_Disk.y < release.ydata))\n",
    "    ax[1].scatter(MW_Disk_2_x[index],MW_Disk_2_y[index])\n",
    "\n",
    "    plt.savefig(\"MW0_vx_MW400.png\")\n",
    "\n",
    "    \n",
    "       # add the  ability to reset the image\n",
    "def onKeyPressed(event):\n",
    "    \n",
    "    if event.key in ['R', 'r']:\n",
    "        # ADD - too zoom in reset the axes\n",
    "        ax[0].set_xlim(-30,30) # added\n",
    "        ax[0].set_ylim(-30,30) # added"
   ]
  },
  {
   "cell_type": "code",
   "execution_count": null,
   "metadata": {
    "collapsed": true
   },
   "outputs": [],
   "source": [
    "# What if we compared to another point in time\n",
    "\n",
    "\n",
    "    \n",
    "fig,ax = plt.subplots(nrows=1, ncols=2, figsize=(25,10))    \n",
    "        #   ax[0] for Position\n",
    "        #   ax[1] for Velocity \n",
    "  \n",
    "                                                      \n",
    "ax[0].hist2d(MW_Disk.x,MW_Disk.y, bins=200, norm=LogNorm(), cmap='magma')\n",
    "# plt.colorbar()\n",
    "density_contour(MW_Disk.x, MW_Disk.y, 80, 80, ax=ax[0], \\\n",
    "                colors=['white'])\n",
    "#set axis limits\n",
    "ax[0].set_ylim(-30,30)\n",
    "ax[0].set_xlim(-30,30)  \n",
    "\n",
    "# Add axis labels\n",
    "ax[0].set_xlabel('x (kpc)', fontsize=15)\n",
    "ax[0].set_ylabel('y (kpc)', fontsize=15)\n",
    "\n",
    "\n",
    "# SNAPSHOT 400  MODIFIED HERE \n",
    "\n",
    "ax[1].hist2d(MW_Disk_2_x, MW_Disk_2_y, bins=200, norm=LogNorm(), cmap='magma')\n",
    "density_contour(MW_Disk_2_x, MW_Disk_2_y, 80, 80, ax=ax[1], \\\n",
    "                colors=['white'])\n",
    "\n",
    "# Set axis limits\n",
    "ax[1].set_xlim(-70,70)\n",
    "ax[1].set_ylim(-70,70)\n",
    "\n",
    "# Add axis labels\n",
    "ax[1].set_xlabel('x (kpc)', fontsize=15)\n",
    "ax[1].set_ylabel('Velocity Y Component (km/s)', fontsize=15)\n",
    "\n",
    "                        \n",
    "    \n",
    "rs = mw.RectangleSelector( ax[0],                        # the axes to attach to\n",
    "                           callbackRectangle,         # the callback function\n",
    "                           drawtype='box',            # draw a box when selecting a region\n",
    "                           button=[1, 3],             # allow us to use left or right mouse button\n",
    "                           minspanx=5, minspany=5,    # don't accept a box of fewer than 5 pixels\n",
    "                           spancoords='pixels' )      # units for above\n",
    "\n",
    "#button 1 is left mouse button\n",
    "\n",
    "# to detect the 'R' key press to reset the image\n",
    "plt.connect(\"key_press_event\", onKeyPressed)"
   ]
  },
  {
   "cell_type": "code",
   "execution_count": null,
   "metadata": {
    "collapsed": true
   },
   "outputs": [],
   "source": []
  }
 ],
 "metadata": {
  "kernelspec": {
   "display_name": "Python 3",
   "language": "python",
   "name": "python3"
  },
  "language_info": {
   "codemirror_mode": {
    "name": "ipython",
    "version": 3
   },
   "file_extension": ".py",
   "mimetype": "text/x-python",
   "name": "python",
   "nbconvert_exporter": "python",
   "pygments_lexer": "ipython3",
   "version": "3.7.4"
  }
 },
 "nbformat": 4,
 "nbformat_minor": 2
}
